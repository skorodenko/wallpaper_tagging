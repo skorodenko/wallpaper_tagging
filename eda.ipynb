{
 "cells": [
  {
   "cell_type": "code",
   "execution_count": 5,
   "metadata": {},
   "outputs": [],
   "source": [
    "import os\n",
    "import polars as pl\n",
    "import matplotlib.pyplot as plt\n",
    "from pathlib import Path\n",
    "%matplotlib inline"
   ]
  },
  {
   "cell_type": "code",
   "execution_count": 6,
   "metadata": {},
   "outputs": [],
   "source": [
    "dataroot = Path(\"./assets/preprocessed\")\n",
    "#train_path = dataroot / \"Train_nus-wide.ndjson\"\n",
    "test_path = dataroot / \"Test_nus-wide.ndjson\""
   ]
  },
  {
   "cell_type": "code",
   "execution_count": 7,
   "metadata": {},
   "outputs": [
    {
     "name": "stdout",
     "output_type": "stream",
     "text": [
      "Rows: 4\n",
      "Columns: 4\n",
      "$ file_name        <str> '0431_2485459033.jpg', '0590_490134926.jpg', '0222_2573539930.jpg', '0394_423363936.jpg'\n",
      "$ labels     <list[str]> ['sky', 'water', 'clouds', 'architecture', 'city', 'travel', 'street', 'urban', 'europe', 'france', 'window', 'square', 'rain', 'paris', 'cars', 'tourism', 'traffic', 'highway', 'ancient', 'rainy'], ['nature', 'green', 'explore', 'trees', 'grass', 'bench', 'woods', 'wales'], ['sky', 'blue', 'canada', 'building', 'glass', 'toronto', 'office'], ['night', 'desert', 'sign', 'cafe', 'neon']\n",
      "$ tags       <list[str]> ['cars', 'clouds', 'sky', 'street', 'water', 'window'], ['grass'], ['sky'], ['sign']\n",
      "$ image_root       <str> './assets/nus-wide/images', './assets/nus-wide/images', './assets/nus-wide/images', './assets/nus-wide/images'\n",
      "\n"
     ]
    }
   ],
   "source": [
    "test = pl.read_ndjson(test_path)\n",
    "tsample = test\n",
    "#tsample = tsample.filter(pl.col(\"tags\").list.len() > 3)\n",
    "tsample = tsample.sample(4, seed=2)\n",
    "tsample.glimpse()"
   ]
  },
  {
   "cell_type": "code",
   "execution_count": 8,
   "metadata": {},
   "outputs": [],
   "source": [
    "#from scripts.test.compose import trainer, model, data\n",
    "#os.environ[\"SPECIFIC_IMGS\"] = \",\".join(tsample[\"file_name\"])\n",
    "#\n",
    "#alignment = {\"verticalalignment\": \"center\", \"horizontalalignment\": \"center\"}\n",
    "#\n",
    "#preds = trainer.predict(model, datamodule=data)\n",
    "#fig, axs = plt.subplots(ncols=5, nrows=4, figsize=(5.5, 3.5), layout=\"constrained\")\n",
    "#for ax in axs.ravel():\n",
    "#    ax.set_axis_off()\n",
    "#for i, txt in enumerate([\"Image\", \"Truth\", \"Top 5 pred\", \"Model pred\"]):\n",
    "#    axs[i,0].text(0, 0.5, txt, **alignment)\n",
    "#for i, path in enumerate(tsample[\"file_name\"]):\n",
    "#    img_path = Path(tsample[\"image_root\"][i], path)\n",
    "#    img = plt.imread(img_path)\n",
    "#    axs[0,i+1].imshow(img)\n",
    "#    axs[1,i+1].text(0.5, 0.5, \"\\n\".join(tsample[\"tags\"][i]), **alignment)\n",
    "#    axs[2,i+1].text(0.5, 0.5, \"\\n\".join(tsample[\"labels\"][i][:5]), **alignment)\n",
    "#    axs[3,i+1].text(0.5, 0.5, \"\\n\".join(preds[0][i] if len(preds[0][i]) > 0 else [\"-\"]), **alignment)"
   ]
  }
 ],
 "metadata": {
  "kernelspec": {
   "display_name": ".venv",
   "language": "python",
   "name": "python3"
  },
  "language_info": {
   "codemirror_mode": {
    "name": "ipython",
    "version": 3
   },
   "file_extension": ".py",
   "mimetype": "text/x-python",
   "name": "python",
   "nbconvert_exporter": "python",
   "pygments_lexer": "ipython3",
   "version": "3.11.8"
  }
 },
 "nbformat": 4,
 "nbformat_minor": 2
}
