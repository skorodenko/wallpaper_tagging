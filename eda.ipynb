{
 "cells": [
  {
   "cell_type": "code",
   "execution_count": 5,
   "metadata": {},
   "outputs": [],
   "source": [
    "import os\n",
    "import polars as pl\n",
    "import matplotlib.pyplot as plt\n",
    "from pathlib import Path\n",
    "%matplotlib inline"
   ]
  },
  {
   "cell_type": "code",
   "execution_count": 6,
   "metadata": {},
   "outputs": [],
   "source": [
    "dataroot = Path(\"./assets/preprocessed\")\n",
    "train_path = dataroot / \"Train_nus-wide.ndjson\"\n",
    "test_path = dataroot / \"Test_nus-wide.ndjson\""
   ]
  },
  {
   "cell_type": "code",
   "execution_count": 7,
   "metadata": {},
   "outputs": [
    {
     "data": {
      "text/plain": [
       "set()"
      ]
     },
     "execution_count": 7,
     "metadata": {},
     "output_type": "execute_result"
    }
   ],
   "source": [
    "test = pl.read_ndjson(test_path)\n",
    "train = pl.read_ndjson(train_path)\n",
    "\n",
    "test = set(test[\"file_name\"])\n",
    "train = set(train[\"file_name\"])\n",
    "test.intersection(train)"
   ]
  },
  {
   "cell_type": "code",
   "execution_count": 8,
   "metadata": {},
   "outputs": [
    {
     "name": "stdout",
     "output_type": "stream",
     "text": [
      "Mean 2.4186057952477 | Std 1.5880828167376047\n",
      "Max 12 | Min 1\n",
      "shape: (121_962, 5)\n",
      "┌─────────────────────┬─────────────────────┬────────────────────┬────────────────────┬────────────┐\n",
      "│ file_name           ┆ labels              ┆ tags               ┆ image_root         ┆ len_labels │\n",
      "│ ---                 ┆ ---                 ┆ ---                ┆ ---                ┆ ---        │\n",
      "│ str                 ┆ list[str]           ┆ list[str]          ┆ str                ┆ u32        │\n",
      "╞═════════════════════╪═════════════════════╪════════════════════╪════════════════════╪════════════╡\n",
      "│ 0264_1570951565.jpg ┆ [\"food\"]            ┆ [\"red\", \"colour\"]  ┆ ./assets/nus-wide/ ┆ 1          │\n",
      "│                     ┆                     ┆                    ┆ images             ┆            │\n",
      "│ 0485_2278734383.jpg ┆ [\"flowers\",         ┆ [\"bravo\",          ┆ ./assets/nus-wide/ ┆ 2          │\n",
      "│                     ┆ \"plants\"]           ┆ \"reflection\", …    ┆ images             ┆            │\n",
      "│                     ┆                     ┆ \"pair\"…            ┆                    ┆            │\n",
      "│ 0306_2069748397.jpg ┆ [\"animal\", \"birds\"] ┆ [\"bird\",           ┆ ./assets/nus-wide/ ┆ 2          │\n",
      "│                     ┆                     ┆ \"awesome\", \"hawk\"] ┆ images             ┆            │\n",
      "│ 0327_1118668394.jpg ┆ [\"reflection\"]      ┆ [\"sea\", \"italy\", … ┆ ./assets/nus-wide/ ┆ 1          │\n",
      "│                     ┆                     ┆ \"ship\"]            ┆ images             ┆            │\n",
      "│ 0439_25787056.jpg   ┆ [\"animal\", \"coral\"] ┆ [\"underwater\",     ┆ ./assets/nus-wide/ ┆ 2          │\n",
      "│                     ┆                     ┆ \"diving\", … \"scub… ┆ images             ┆            │\n",
      "│ …                   ┆ …                   ┆ …                  ┆ …                  ┆ …          │\n",
      "│ 0239_398988992.jpg  ┆ [\"water\"]           ┆ [\"red\", \"england\", ┆ ./assets/nus-wide/ ┆ 1          │\n",
      "│                     ┆                     ┆ … \"radar\"]         ┆ images             ┆            │\n",
      "│ 0235_108867088.jpg  ┆ [\"clouds\", \"sand\",  ┆ [\"sky\", \"bravo\", … ┆ ./assets/nus-wide/ ┆ 4          │\n",
      "│                     ┆ … \"window\"]         ┆ \"dramatic\"]        ┆ images             ┆            │\n",
      "│ 0411_369337576.jpg  ┆ [\"person\"]          ┆ [\"red\", \"green\", … ┆ ./assets/nus-wide/ ┆ 1          │\n",
      "│                     ┆                     ┆ \"telephones\"]      ┆ images             ┆            │\n",
      "│ 0010_217473427.jpg  ┆ [\"food\"]            ┆ [\"california\",     ┆ ./assets/nus-wide/ ┆ 1          │\n",
      "│                     ┆                     ┆ \"food\", \"cheese\"]  ┆ images             ┆            │\n",
      "│ 0368_1732465445.jpg ┆ [\"clouds\", \"house\", ┆ [\"fog\", \"mist\",    ┆ ./assets/nus-wide/ ┆ 5          │\n",
      "│                     ┆ … \"water\"]          ┆ \"canal\"]           ┆ images             ┆            │\n",
      "└─────────────────────┴─────────────────────┴────────────────────┴────────────────────┴────────────┘\n"
     ]
    }
   ],
   "source": [
    "# Calculating norm for LQP training\n",
    "train = pl.read_ndjson(train_path)\n",
    "\n",
    "train = train.with_columns(\n",
    "    pl.col(\"labels\").list.len().alias(\"len_labels\")\n",
    ")\n",
    "\n",
    "mean = train[\"len_labels\"].mean()\n",
    "std = train[\"len_labels\"].std()\n",
    "maximum = train[\"len_labels\"].max()\n",
    "minimum = train[\"len_labels\"].min()\n",
    "\n",
    "print(f\"Mean {mean} | Std {std}\")\n",
    "print(f\"Max {maximum} | Min {minimum}\")\n",
    "print(train)"
   ]
  }
 ],
 "metadata": {
  "kernelspec": {
   "display_name": ".venv",
   "language": "python",
   "name": "python3"
  },
  "language_info": {
   "codemirror_mode": {
    "name": "ipython",
    "version": 3
   },
   "file_extension": ".py",
   "mimetype": "text/x-python",
   "name": "python",
   "nbconvert_exporter": "python",
   "pygments_lexer": "ipython3",
   "version": "3.11.8"
  }
 },
 "nbformat": 4,
 "nbformat_minor": 2
}
